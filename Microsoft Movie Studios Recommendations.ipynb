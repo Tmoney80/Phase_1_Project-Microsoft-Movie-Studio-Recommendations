{
 "cells": [
  {
   "attachments": {},
   "cell_type": "markdown",
   "metadata": {},
   "source": [
    "<h1 style=\"text-align: center;\"> Microsoft Movie Studios Recommendations </h1>\n",
    "\n",
    "<img style=\"display: block;\n",
    "            margin-left: auto;\n",
    "            margin-right: auto;\n",
    "            width: 50%;\"\n",
    "     src=\"images/projector_img.jpg\" />\n",
    "\n",
    "#### Author: Tahron Herring"
   ]
  },
  {
   "cell_type": "markdown",
   "metadata": {},
   "source": [
    "### Overview\n",
    "\n",
    "<hr>\n",
    "\n",
    "<p style=\"text-align: left;\"> \n",
    "The technology giant, Microsoft is looking to expand it's lines of business by jumping into the movie business.  This project will analyze data from various movie tracking and rating companies to help them determine how to best direct project investments that help ensure a successful start to this venture. \n",
    "</p>"
   ]
  },
  {
   "cell_type": "markdown",
   "metadata": {},
   "source": [
    "### Business Understanding\n",
    "\n",
    "<hr>\n",
    "\n",
    "<p style=\"text-align: left;\"> \n",
    "Like every successful business Microsoft wants to make the best decisions that they can with the resources that they decide to dedicate to a particular new venture. With this in mind, we want to analyze the peformance of past and current films in order to guide what areas Microsoft should make it's initial movie investments. \n",
    "</p>\n",
    "\n",
    "<p style=\"text-align: left;\"> \n",
    "A good way of determining which films have performed the best at the box office is to look at two important metrics, a films popularity and a films profitability.  It may be suprising to many but measuring these two incators are not exactly straight forward. For the purposes of this project we will be using data from five different datasources to help us determine which film categories are the most popular and which are the most profitable.    \n",
    "</p>   "
   ]
  },
  {
   "cell_type": "markdown",
   "metadata": {},
   "source": [
    "### Data Understanding\n",
    "\n",
    "<img src=\"images/movie_theater_1.jpg\"\n",
    "     width=500\n",
    "     height=150\n",
    "     />\n",
    "\n",
    "<hr>\n",
    "\n",
    "<p style=\"text-align: left;\">\n",
    "  \n",
    "To assess film popularity and film profitability we will examine five seperate datasources. The datasets will come from Box Office Mojo, IMDB, Rotten Tomatoes, The Movie DB, and The Numbers. Based on the contents of the datasets popularity will be determined from the data housed in the IMDB, The Movie DB, and the Rotten Tomatoes datasources. These sources contain features like rating, popularity, genre, vote_count, etc. Profitability will be determined from the Box Office Mojo and The Numbers datasources. These sources contain features like domestic_gross and production_budget, etc.  \n",
    "    \n",
    "</p>    "
   ]
  },
  {
   "cell_type": "markdown",
   "metadata": {},
   "source": [
    "### Data Preparation\n",
    "\n",
    "<hr>"
   ]
  },
  {
   "cell_type": "markdown",
   "metadata": {},
   "source": [
    "### Data Analysis\n",
    "\n",
    "<hr>"
   ]
  },
  {
   "cell_type": "markdown",
   "metadata": {},
   "source": [
    "### Conclusions\n",
    "\n",
    "<hr>"
   ]
  },
  {
   "cell_type": "markdown",
   "metadata": {},
   "source": [
    "### Next Steps\n",
    "\n",
    "<hr>"
   ]
  },
  {
   "cell_type": "code",
   "execution_count": null,
   "metadata": {},
   "outputs": [],
   "source": []
  }
 ],
 "metadata": {
  "kernelspec": {
   "display_name": "Python 3",
   "language": "python",
   "name": "python3"
  },
  "language_info": {
   "codemirror_mode": {
    "name": "ipython",
    "version": 3
   },
   "file_extension": ".py",
   "mimetype": "text/x-python",
   "name": "python",
   "nbconvert_exporter": "python",
   "pygments_lexer": "ipython3",
   "version": "3.8.5"
  }
 },
 "nbformat": 4,
 "nbformat_minor": 4
}
